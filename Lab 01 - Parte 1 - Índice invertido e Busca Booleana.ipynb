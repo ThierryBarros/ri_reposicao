{
 "cells": [
  {
   "cell_type": "markdown",
   "metadata": {},
   "source": [
    "# ÍNDICE INVERTIDO (REPOSIÇÃO)\n",
    "Importando as bibliotecas a serem utilizadas na aplicação"
   ]
  },
  {
   "cell_type": "code",
   "execution_count": 1,
   "metadata": {},
   "outputs": [],
   "source": [
    "#coding: utf-8\n",
    "import pandas\n",
    "import nltk\n",
    "\n",
    "__author__ = \"Thierry Barros\"\n",
    "\n",
    "indice_invertido = {}"
   ]
  },
  {
   "cell_type": "markdown",
   "metadata": {},
   "source": [
    "# Construindo o índice invertido\n",
    "\n",
    "função que checa se a palavra já existe no indice invertido, se sim adiciona o id do texto que possui a palavra. Se não cria a chave para palavra e adiciona o id do texto."
   ]
  },
  {
   "cell_type": "code",
   "execution_count": 2,
   "metadata": {},
   "outputs": [],
   "source": [
    "def preencher( tupla ):\n",
    "    \n",
    "    palavra, id_texto = tupla\n",
    "    try:\n",
    "        indice_invertido [ palavra.lower() ].add(id_texto)\n",
    "    except KeyError:\n",
    "        indice_invertido[ palavra.lower() ] = set([ id_texto ])"
   ]
  },
  {
   "cell_type": "markdown",
   "metadata": {},
   "source": [
    "#Criação da função que cria o indice invertido. Percorre todos os textos e vai adicionando a indice invertido."
   ]
  },
  {
   "cell_type": "code",
   "execution_count": 3,
   "metadata": {},
   "outputs": [],
   "source": [
    "def extrair( texto , id_texto ):\n",
    "    for i in xrange( len(texto) ):\n",
    "        for palavra in nltk.word_tokenize( texto[i] ):\n",
    "            preencher((palavra,id_texto[i]))\n",
    "       "
   ]
  },
  {
   "cell_type": "markdown",
   "metadata": {},
   "source": [
    "# Buscando dados\n",
    "\n",
    "Função principal que procura no dicionário as palavras e retorna o id de todos os textos que possuem aquelas palavras."
   ]
  },
  {
   "cell_type": "code",
   "execution_count": 4,
   "metadata": {},
   "outputs": [],
   "source": [
    "def search( palavras ):\n",
    "    if ( \"AND\" in palavras ):\n",
    "        lista = map( lambda x: x.strip(), palavras.split(\"AND\") )\n",
    "        return procurarAND(lista)\n",
    "    elif (\"OR\" in palavras ):\n",
    "        lista = map(lambda x: x.strip(), palavras.split(\"OR\"))\n",
    "        return procurarOR(lista)\n",
    "    else:\n",
    "        return list(indice_invertido[palavras])"
   ]
  },
  {
   "cell_type": "markdown",
   "metadata": {},
   "source": [
    "Função auxiliar que procurar pelo OR e retorna o id de todos os textos que possuem pelo menos uma das palvras. OBS: Função genérica do OR."
   ]
  },
  {
   "cell_type": "code",
   "execution_count": 5,
   "metadata": {},
   "outputs": [],
   "source": [
    "def procurarOR(lista):\n",
    "    indices = indice_invertido[lista[0].lower()]\n",
    "    for palavra in lista:\n",
    "        indices = set(reduce( lambda x,y : list( x | y ), [ indice_invertido[palavra.lower()] , indices] ))\n",
    "    return indices\n"
   ]
  },
  {
   "cell_type": "markdown",
   "metadata": {},
   "source": [
    "Função auxiliar que procurar pelo AND e retorna o id de todos os textos que possuem todas as palavras. OBS: Função genérica do AND."
   ]
  },
  {
   "cell_type": "code",
   "execution_count": 6,
   "metadata": {},
   "outputs": [],
   "source": [
    "def procurarAND(lista):\n",
    "    indices = indice_invertido[lista[0].lower()]\n",
    "    for palavra in lista:\n",
    "        indices = set(reduce( lambda x,y : list( x & y ), [ indice_invertido[palavra.lower()] , indices] ))\n",
    "    return indices\n"
   ]
  },
  {
   "cell_type": "markdown",
   "metadata": {},
   "source": [
    "# Testando a aplicação\n",
    "Função para testar alguns casos do sistema."
   ]
  },
  {
   "cell_type": "code",
   "execution_count": 7,
   "metadata": {},
   "outputs": [],
   "source": [
    "def debug_teste(texto, valor):\n",
    "\tresult =  len(search(texto)) == valor\n",
    "\tif result == True:\n",
    "\t\tprint \"Sucesso\"\n",
    "\telse:\n",
    "\t\tprint \"Falha\"\n",
    "    \n",
    "\n",
    "def teste():\n",
    "    #OR\n",
    "    debug_teste(\"debate OR presidencial\",1770)\n",
    "    debug_teste(\"presidenciáveis OR corruptos\", 164)\n",
    "    debug_teste(\"Belo OR Horizonte\", 331)\n",
    "\n",
    "    #AND\n",
    "    debug_teste(\"Belo AND Horizonte\", 242)\n",
    "    debug_teste(\"presidenciáveis AND corruptos\", 0)\n",
    "    debug_teste(\"debate AND presidencial\",201)\n",
    "    debug_teste(\"Campina AND Grande\",12)"
   ]
  },
  {
   "cell_type": "markdown",
   "metadata": {},
   "source": [
    "Função main que roda o programa."
   ]
  },
  {
   "cell_type": "code",
   "execution_count": 8,
   "metadata": {},
   "outputs": [
    {
     "name": "stdout",
     "output_type": "stream",
     "text": [
      "Sucesso\n",
      "Sucesso\n",
      "Sucesso\n",
      "Sucesso\n",
      "Sucesso\n",
      "Sucesso\n",
      "Sucesso\n"
     ]
    }
   ],
   "source": [
    "if __name__ == \"__main__\":\n",
    "    file_csv = pandas.read_csv(\"noticias_estadao.csv\")\n",
    "    texto = file_csv.titulo + \" \" + file_csv.conteudo\n",
    "    extrair(texto,file_csv.idNoticia)\n",
    "    teste()\n",
    "    "
   ]
  },
  {
   "cell_type": "code",
   "execution_count": null,
   "metadata": {},
   "outputs": [],
   "source": []
  }
 ],
 "metadata": {
  "kernelspec": {
   "display_name": "Python 2",
   "language": "python",
   "name": "python2"
  },
  "language_info": {
   "codemirror_mode": {
    "name": "ipython",
    "version": 2
   },
   "file_extension": ".py",
   "mimetype": "text/x-python",
   "name": "python",
   "nbconvert_exporter": "python",
   "pygments_lexer": "ipython2",
   "version": "2.7.12"
  }
 },
 "nbformat": 4,
 "nbformat_minor": 2
}
